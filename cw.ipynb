{
 "cells": [
  {
   "cell_type": "markdown",
   "source": [
    "Import the training and test data using pandas"
   ],
   "metadata": {
    "collapsed": false,
    "pycharm": {
     "name": "#%% md\n"
    }
   }
  },
  {
   "cell_type": "code",
   "execution_count": 7,
   "outputs": [],
   "source": [
    "import pandas as pd\n",
    "\n",
    "train_data_binary = pd.read_csv(\"TrainingDataBinary.csv\", header=None)\n",
    "train_data_multi = pd.read_csv(\"TrainingDataMulti.csv\", header=None)\n",
    "test_data_binary = pd.read_csv(\"TestingDataBinary.csv\", header=None)\n",
    "test_data_multi = pd.read_csv(\"TestingDataMulti.csv\", header=None)\n",
    "\n",
    "# Get the values and label for each trace in separate variables\n",
    "train_values_binary = train_data_binary.iloc[:, :-1]\n",
    "train_labels_binary = train_data_binary.iloc[:, -1]\n",
    "\n",
    "# Do the same for the multi-variable data set\n",
    "train_values_multi = train_data_multi.iloc[:, :-1]\n",
    "train_labels_multi = train_data_multi.iloc[:, -1]"
   ],
   "metadata": {
    "collapsed": false,
    "pycharm": {
     "name": "#%%\n"
    }
   }
  },
  {
   "cell_type": "markdown",
   "source": [
    "Import sklearn to use their ML algorithms.\n",
    "\n",
    "Using the scikit-learn algorithm cheat sheet from the lecture slides, the recommended classes of algorithm to use for this data set are Linear SVC, Naive Bayes, KNeighbours Classifiers and Ensemble Classifiers. Each of these model types have been tested on the dataset using a 75% training 25% validation split.\n",
    "\n",
    "The results of these tests have been recorded below, and have shown the RandomForestClassifier to be the best model for the dataset by accuracy score (using sklearn.metrics.accuracy_score)."
   ],
   "metadata": {
    "collapsed": false,
    "pycharm": {
     "name": "#%% md\n"
    }
   }
  },
  {
   "cell_type": "code",
   "execution_count": 8,
   "outputs": [
    {
     "data": {
      "text/plain": "RandomForestClassifier()",
      "text/html": "<style>#sk-container-id-3 {color: black;background-color: white;}#sk-container-id-3 pre{padding: 0;}#sk-container-id-3 div.sk-toggleable {background-color: white;}#sk-container-id-3 label.sk-toggleable__label {cursor: pointer;display: block;width: 100%;margin-bottom: 0;padding: 0.3em;box-sizing: border-box;text-align: center;}#sk-container-id-3 label.sk-toggleable__label-arrow:before {content: \"▸\";float: left;margin-right: 0.25em;color: #696969;}#sk-container-id-3 label.sk-toggleable__label-arrow:hover:before {color: black;}#sk-container-id-3 div.sk-estimator:hover label.sk-toggleable__label-arrow:before {color: black;}#sk-container-id-3 div.sk-toggleable__content {max-height: 0;max-width: 0;overflow: hidden;text-align: left;background-color: #f0f8ff;}#sk-container-id-3 div.sk-toggleable__content pre {margin: 0.2em;color: black;border-radius: 0.25em;background-color: #f0f8ff;}#sk-container-id-3 input.sk-toggleable__control:checked~div.sk-toggleable__content {max-height: 200px;max-width: 100%;overflow: auto;}#sk-container-id-3 input.sk-toggleable__control:checked~label.sk-toggleable__label-arrow:before {content: \"▾\";}#sk-container-id-3 div.sk-estimator input.sk-toggleable__control:checked~label.sk-toggleable__label {background-color: #d4ebff;}#sk-container-id-3 div.sk-label input.sk-toggleable__control:checked~label.sk-toggleable__label {background-color: #d4ebff;}#sk-container-id-3 input.sk-hidden--visually {border: 0;clip: rect(1px 1px 1px 1px);clip: rect(1px, 1px, 1px, 1px);height: 1px;margin: -1px;overflow: hidden;padding: 0;position: absolute;width: 1px;}#sk-container-id-3 div.sk-estimator {font-family: monospace;background-color: #f0f8ff;border: 1px dotted black;border-radius: 0.25em;box-sizing: border-box;margin-bottom: 0.5em;}#sk-container-id-3 div.sk-estimator:hover {background-color: #d4ebff;}#sk-container-id-3 div.sk-parallel-item::after {content: \"\";width: 100%;border-bottom: 1px solid gray;flex-grow: 1;}#sk-container-id-3 div.sk-label:hover label.sk-toggleable__label {background-color: #d4ebff;}#sk-container-id-3 div.sk-serial::before {content: \"\";position: absolute;border-left: 1px solid gray;box-sizing: border-box;top: 0;bottom: 0;left: 50%;z-index: 0;}#sk-container-id-3 div.sk-serial {display: flex;flex-direction: column;align-items: center;background-color: white;padding-right: 0.2em;padding-left: 0.2em;position: relative;}#sk-container-id-3 div.sk-item {position: relative;z-index: 1;}#sk-container-id-3 div.sk-parallel {display: flex;align-items: stretch;justify-content: center;background-color: white;position: relative;}#sk-container-id-3 div.sk-item::before, #sk-container-id-3 div.sk-parallel-item::before {content: \"\";position: absolute;border-left: 1px solid gray;box-sizing: border-box;top: 0;bottom: 0;left: 50%;z-index: -1;}#sk-container-id-3 div.sk-parallel-item {display: flex;flex-direction: column;z-index: 1;position: relative;background-color: white;}#sk-container-id-3 div.sk-parallel-item:first-child::after {align-self: flex-end;width: 50%;}#sk-container-id-3 div.sk-parallel-item:last-child::after {align-self: flex-start;width: 50%;}#sk-container-id-3 div.sk-parallel-item:only-child::after {width: 0;}#sk-container-id-3 div.sk-dashed-wrapped {border: 1px dashed gray;margin: 0 0.4em 0.5em 0.4em;box-sizing: border-box;padding-bottom: 0.4em;background-color: white;}#sk-container-id-3 div.sk-label label {font-family: monospace;font-weight: bold;display: inline-block;line-height: 1.2em;}#sk-container-id-3 div.sk-label-container {text-align: center;}#sk-container-id-3 div.sk-container {/* jupyter's `normalize.less` sets `[hidden] { display: none; }` but bootstrap.min.css set `[hidden] { display: none !important; }` so we also need the `!important` here to be able to override the default hidden behavior on the sphinx rendered scikit-learn.org. See: https://github.com/scikit-learn/scikit-learn/issues/21755 */display: inline-block !important;position: relative;}#sk-container-id-3 div.sk-text-repr-fallback {display: none;}</style><div id=\"sk-container-id-3\" class=\"sk-top-container\"><div class=\"sk-text-repr-fallback\"><pre>RandomForestClassifier()</pre><b>In a Jupyter environment, please rerun this cell to show the HTML representation or trust the notebook. <br />On GitHub, the HTML representation is unable to render, please try loading this page with nbviewer.org.</b></div><div class=\"sk-container\" hidden><div class=\"sk-item\"><div class=\"sk-estimator sk-toggleable\"><input class=\"sk-toggleable__control sk-hidden--visually\" id=\"sk-estimator-id-3\" type=\"checkbox\" checked><label for=\"sk-estimator-id-3\" class=\"sk-toggleable__label sk-toggleable__label-arrow\">RandomForestClassifier</label><div class=\"sk-toggleable__content\"><pre>RandomForestClassifier()</pre></div></div></div></div></div>"
     },
     "execution_count": 8,
     "metadata": {},
     "output_type": "execute_result"
    }
   ],
   "source": [
    "# from sklearn.linear_model\n",
    "# \"LogisticRegression\", 0.8493333333333334\n",
    "# \"Perceptron\", 0.5\n",
    "\n",
    "# from sklearn.naive_bayes\n",
    "# \"BernoulliNB\", 0.75\n",
    "# \"GaussianNB\", 0.5293333333333333\n",
    "\n",
    "# from sklearn.ensemble\n",
    "# \"RandomForestClassifier\", 0.9866666666666667\n",
    "# \"ExtraTreesClassifier\", 0.992\n",
    "\n",
    "# from sklearn.neighbors\n",
    "# \"KNeighborsClassifier\", 0.9006666666666666\n",
    "\n",
    "# from sklearn.svm import LinearSVC\n",
    "# model = LinearSVC(max_iter=6000)\n",
    "# \"LinearSVC\", 0.7786666666666666\n",
    "\n",
    "from sklearn.ensemble  import RandomForestClassifier\n",
    "\n",
    "# For testing different models:\n",
    "# from sklearn.model_selection import train_test_split\n",
    "# from sklearn.metrics import accuracy_score\n",
    "#\n",
    "# model = RandomForestClassifier()\n",
    "# training_values, validation_values, training_labels, validation_labels = train_test_split(train_values_binary, train_labels_binary, stratify=train_labels_binary, test_size=0.25)\n",
    "# model.fit(training_values, training_labels)\n",
    "#\n",
    "# Predict the labels for the training data\n",
    "# prediction = model.predict(X_test)\n",
    "# accuracy = accuracy_score(y_test, prediction)\n",
    "# print(model.score(X_test, y_test))\n",
    "# print('Accuracy:', accuracy)\n",
    "\n",
    "# Create and train the model for the binary classifier\n",
    "binary_model = RandomForestClassifier()\n",
    "binary_model.fit(train_values_binary, train_labels_binary)\n",
    "\n",
    "# Create and train the model for the multiple classifier\n",
    "multi_model = RandomForestClassifier()\n",
    "multi_model.fit(train_values_multi, train_labels_multi)"
   ],
   "metadata": {
    "collapsed": false,
    "pycharm": {
     "name": "#%%\n"
    }
   }
  },
  {
   "cell_type": "markdown",
   "source": [
    "Use the trained models to generate the output data\n",
    "\n",
    "Note: Only one model seems to work at a time, so the code for the other model needs to be commented out when run (e.g. only multi code or only binary code)"
   ],
   "metadata": {
    "collapsed": false,
    "pycharm": {
     "name": "#%% md\n"
    }
   }
  },
  {
   "cell_type": "code",
   "execution_count": 9,
   "outputs": [
    {
     "name": "stdout",
     "output_type": "stream",
     "text": [
      "Finished!\n"
     ]
    }
   ],
   "source": [
    "# Generate the predictions\n",
    "binary_prediction = binary_model.predict(test_data_binary)\n",
    "multi_prediction = multi_model.predict(test_data_multi)\n",
    "\n",
    "# Append the predictions to the data\n",
    "test_data_binary['Predicted_Label'] = binary_prediction\n",
    "test_data_multi['Predicted_Label'] = multi_prediction\n",
    "\n",
    "# Save the results to a CSV file\n",
    "test_data_binary.to_csv('BinaryOutput.csv', index=False,header=False)\n",
    "test_data_multi.to_csv('MultiOutput.csv', index=False,header=False)\n",
    "\n",
    "print(\"Finished!\")"
   ],
   "metadata": {
    "collapsed": false,
    "pycharm": {
     "name": "#%%\n"
    }
   }
  }
 ],
 "metadata": {
  "kernelspec": {
   "display_name": "Python 3",
   "language": "python",
   "name": "python3"
  },
  "language_info": {
   "codemirror_mode": {
    "name": "ipython",
    "version": 2
   },
   "file_extension": ".py",
   "mimetype": "text/x-python",
   "name": "python",
   "nbconvert_exporter": "python",
   "pygments_lexer": "ipython2",
   "version": "2.7.6"
  }
 },
 "nbformat": 4,
 "nbformat_minor": 0
}